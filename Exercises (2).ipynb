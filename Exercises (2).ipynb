{
 "cells": [
  {
   "cell_type": "markdown",
   "metadata": {},
   "source": [
    "#### Exercise 1 - Class Inheritance"
   ]
  },
  {
   "cell_type": "markdown",
   "metadata": {},
   "source": [
    "Create an Employee class that sets an employee's first name, last name, job title, salary, and email. The Employee class should have a class attribute for the raise amount set to 5% (1.05). Create a method that will apply the raise to an employee's salary."
   ]
  },
  {
   "cell_type": "markdown",
   "metadata": {},
   "source": [
    "Create two more classes that inherit from the Employee class. One for Sales and one for Development. Both of these classes will have the same attributes as the Employee.<br>\n",
    "- For the Sales employees, add a phone number attribute on instantiation using the super method. \n",
    "- Create a method on the Sales class that will Send a Follow Up Email. It should take in a customer name and \"send\" aka print a formatted email \"Dear *customer*, Thank you for your interest in our product. Please let me know if you have any questions. My email is *email* or my phone number is *phone number*. Thanks, *full name*\"\n",
    "- Create a method on the Development class called code that will print out \"*full name* is writing code\"."
   ]
  },
  {
   "cell_type": "markdown",
   "metadata": {},
   "source": [
    "- Create an instance of a Development Employee with a salary of $100,000\n",
    "- Write some code with this employee\n",
    "- Give the employee a raise and print the salary"
   ]
  },
  {
   "cell_type": "markdown",
   "metadata": {},
   "source": [
    "- Create an instance of a Sales Employee with a salary of $50,000.\n",
    "- Send follow up emails to \"Mike O'Neil\" and \"Hannah Stern\"\n",
    "- Give the employee a raise and print the salary"
   ]
  },
  {
   "cell_type": "code",
   "execution_count": 23,
   "metadata": {},
   "outputs": [
    {
     "name": "stdout",
     "output_type": "stream",
     "text": [
      "105000.0\n",
      "\n",
      "Dear Hannah Stern,\n",
      "\n",
      " Thank you for your interest in our product.Please let me know if you have any questions.\n",
      "My email is bob@ross.comor my phone_number is 123456789.\n",
      " \n",
      "Thanks,\n",
      "Bob Ross\n",
      "126000.0\n",
      "hana bill is writing code\n"
     ]
    }
   ],
   "source": [
    "class Employee:\n",
    "    raise_amount=0.05\n",
    "    def __init__(self,first_name, last_name, job_title, salary, email):\n",
    "        self.first_name=first_name\n",
    "        self.last_name=last_name\n",
    "        self.job_title=job_title\n",
    "        self.salary=salary\n",
    "        self.email=email\n",
    "    def raise_salary(self):\n",
    "        self.salary+=self.salary*self.raise_amount\n",
    "        print (self.salary)\n",
    "        \n",
    "class Sales(Employee):\n",
    "    def __init__(self,first_name, last_name, job_title, salary, email,phone_number):\n",
    "        super().__init__(first_name, last_name, job_title, salary, email)\n",
    "        self.phone_number=phone_number\n",
    "        \n",
    "    def send_followup(self, custumer_name):\n",
    "        print(f\"\\nDear {custumer_name},\\n\\n Thank you for your interest in our product.Please let me know if you have any questions.\\nMy email is {self.email}or my phone_number is {self.phone_number}.\\n \\nThanks,\\n{self.first_name} {self.last_name}\")\n",
    "    \n",
    "    \n",
    "class Development(Employee):\n",
    "    def __init__(self,first_name, last_name, job_title, salary, email,phone_number):\n",
    "        super().__init__(first_name, last_name, job_title, salary, email)\n",
    "        self.phone_number=phone_number\n",
    "    def coding(self):\n",
    "        print(f'{self.first_name} {self.last_name} is writing code')\n",
    "\n",
    "emp1 = Employee('Bob','Ross','Painter',100000,'bob@ross.com')\n",
    "emp1.raise_salary()\n",
    "emp2 = Sales('Bob','Ross','Painter',100000,'bob@ross.com','123456789')\n",
    "emp2.send_followup(\"Hannah Stern\")\n",
    "emp3=Development('hana','bill','developer',120000,'hana@bill.com','123456789')\n",
    "emp3.raise_salary()\n",
    "emp3.coding()"
   ]
  },
  {
   "cell_type": "markdown",
   "metadata": {},
   "source": [
    "#### Exercise 2 - Importing Modules"
   ]
  },
  {
   "cell_type": "markdown",
   "metadata": {},
   "source": [
    "In VS Code, create a module titled `geometry` and add two functions in there. One that will calculate the area of a circle given a radius. The second will find the hypotenuse of a right angle given the two sides. Import the module or the functions from the module and use it to find the answers to the below questions"
   ]
  },
  {
   "cell_type": "markdown",
   "metadata": {},
   "source": [
    "What is the area of a circle with a radius of 7cm?"
   ]
  },
  {
   "cell_type": "code",
   "execution_count": 2,
   "metadata": {},
   "outputs": [
    {
     "name": "stdout",
     "output_type": "stream",
     "text": [
      "<module 'geometry' from '/Users/kmichael/Desktop/ex/geometry.py'>\n"
     ]
    },
    {
     "ename": "NameError",
     "evalue": "name 'area_of_circle' is not defined",
     "output_type": "error",
     "traceback": [
      "\u001b[0;31m---------------------------------------------------------------------------\u001b[0m",
      "\u001b[0;31mNameError\u001b[0m                                 Traceback (most recent call last)",
      "\u001b[0;32m/var/folders/cc/72nmvgt97kq8ygq8zpsvtrxr0000gn/T/ipykernel_10135/155924857.py\u001b[0m in \u001b[0;36m<module>\u001b[0;34m\u001b[0m\n\u001b[1;32m      2\u001b[0m \u001b[0mprint\u001b[0m \u001b[0;34m(\u001b[0m\u001b[0mgeometry\u001b[0m\u001b[0;34m)\u001b[0m\u001b[0;34m\u001b[0m\u001b[0;34m\u001b[0m\u001b[0m\n\u001b[1;32m      3\u001b[0m \u001b[0;34m\u001b[0m\u001b[0m\n\u001b[0;32m----> 4\u001b[0;31m \u001b[0marea_of_circle\u001b[0m\u001b[0;34m(\u001b[0m\u001b[0;36m7\u001b[0m\u001b[0;34m)\u001b[0m\u001b[0;34m\u001b[0m\u001b[0;34m\u001b[0m\u001b[0m\n\u001b[0m",
      "\u001b[0;31mNameError\u001b[0m: name 'area_of_circle' is not defined"
     ]
    }
   ],
   "source": [
    "import geometry\n",
    "print (geometry)\n",
    "\n",
    "area_of_circle(7)"
   ]
  },
  {
   "cell_type": "markdown",
   "metadata": {},
   "source": [
    "What is the hypotenuse of a right angle with sides of 3in and 4in?"
   ]
  },
  {
   "cell_type": "code",
   "execution_count": 3,
   "metadata": {},
   "outputs": [
    {
     "ename": "NameError",
     "evalue": "name 'get_hypotenuse' is not defined",
     "output_type": "error",
     "traceback": [
      "\u001b[0;31m---------------------------------------------------------------------------\u001b[0m",
      "\u001b[0;31mNameError\u001b[0m                                 Traceback (most recent call last)",
      "\u001b[0;32m/var/folders/cc/72nmvgt97kq8ygq8zpsvtrxr0000gn/T/ipykernel_10135/3618879177.py\u001b[0m in \u001b[0;36m<module>\u001b[0;34m\u001b[0m\n\u001b[0;32m----> 1\u001b[0;31m \u001b[0mget_hypotenuse\u001b[0m\u001b[0;34m(\u001b[0m\u001b[0;36m3\u001b[0m\u001b[0;34m,\u001b[0m\u001b[0;36m4\u001b[0m\u001b[0;34m)\u001b[0m\u001b[0;34m\u001b[0m\u001b[0;34m\u001b[0m\u001b[0m\n\u001b[0m",
      "\u001b[0;31mNameError\u001b[0m: name 'get_hypotenuse' is not defined"
     ]
    }
   ],
   "source": [
    "get_hypotenuse(3,4)"
   ]
  },
  {
   "cell_type": "code",
   "execution_count": null,
   "metadata": {},
   "outputs": [],
   "source": []
  }
 ],
 "metadata": {
  "kernelspec": {
   "display_name": "Python 3 (ipykernel)",
   "language": "python",
   "name": "python3"
  },
  "language_info": {
   "codemirror_mode": {
    "name": "ipython",
    "version": 3
   },
   "file_extension": ".py",
   "mimetype": "text/x-python",
   "name": "python",
   "nbconvert_exporter": "python",
   "pygments_lexer": "ipython3",
   "version": "3.9.7"
  }
 },
 "nbformat": 4,
 "nbformat_minor": 4
}
